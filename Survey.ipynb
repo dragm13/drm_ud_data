{
 "cells": [
  {
   "cell_type": "markdown",
   "id": "836da327",
   "metadata": {},
   "source": [
    "# Step 1: Load the Data from a Single Cell"
   ]
  },
  {
   "cell_type": "code",
   "execution_count": null,
   "id": "8f275ee2",
   "metadata": {},
   "outputs": [],
   "source": [
    "import pandas as pd\n",
    "import numpy as np\n",
    "import io\n",
    "import matplotlib.pyplot as plt\n",
    "import seaborn as sns\n",
    "from sklearn.model_selection import train_test_split\n",
    "from sklearn.ensemble import RandomForestClassifier\n",
    "from sklearn.preprocessing import LabelEncoder\n",
    "from sklearn.metrics import classification_report, confusion_matrix, accuracy_score\n",
    "\n",
    "\n",
    "# Simulating loading the data into a pandas dataframe\n",
    "df = pd.read_csv(io.StringIO(survey_results_public))\n",
    "\n",
    "# Display the first few rows of the dataset to understand its structure\n",
    "df.head()\n"
   ]
  },
  {
   "cell_type": "markdown",
   "id": "931e9c44",
   "metadata": {},
   "source": [
    "# Step 2: Data Preprocessing"
   ]
  },
  {
   "cell_type": "code",
   "execution_count": null,
   "id": "fdc2668c",
   "metadata": {},
   "outputs": [],
   "source": [
    "# Select relevant columns\n",
    "df_cleaned = df[['YearsCode', 'Age', 'ConvertedCompYearly', 'RemoteWork', 'DevType', 'Employment']]\n",
    "\n",
    "# Drop rows with missing values\n",
    "df_cleaned = df_cleaned.dropna()\n",
    "\n",
    "# Encoding the 'RemoteWork' column (whether the developer prefers remote work)\n",
    "le_remote = LabelEncoder()\n",
    "df_cleaned['RemoteWorkEncoded'] = le_remote.fit_transform(df_cleaned['RemoteWork'])\n",
    "\n",
    "# Encoding the 'DevType' column (developer type)\n",
    "# This column contains multiple categories, so we simplify it into a binary classification\n",
    "df_cleaned['DevTypeEncoded'] = df_cleaned['DevType'].apply(lambda x: 1 if 'Developer' in x else 0)\n",
    "\n",
    "# Encoding 'Employment' (full-time, part-time, etc.)\n",
    "le_employment = LabelEncoder()\n",
    "df_cleaned['EmploymentEncoded'] = le_employment.fit_transform(df_cleaned['Employment'])\n",
    "\n",
    "# Feature selection: We will use 'YearsCode', 'Age', 'ConvertedCompYearly', 'DevTypeEncoded', and 'EmploymentEncoded' as the features.\n",
    "X = df_cleaned[['YearsCode', 'Age', 'ConvertedCompYearly', 'DevTypeEncoded', 'EmploymentEncoded']]\n",
    "y = df_cleaned['RemoteWorkEncoded']\n"
   ]
  },
  {
   "cell_type": "markdown",
   "id": "0b27da41",
   "metadata": {},
   "source": [
    "# Step 3: Train-Test Split"
   ]
  },
  {
   "cell_type": "code",
   "execution_count": null,
   "id": "6964ed50",
   "metadata": {},
   "outputs": [],
   "source": [
    "# Train-test split (70% training, 30% testing)\n",
    "X_train, X_test, y_train, y_test = train_test_split(X, y, test_size=0.3, random_state=42)\n",
    "\n",
    "# Check the split size\n",
    "X_train.shape, X_test.shape\n"
   ]
  },
  {
   "cell_type": "markdown",
   "id": "07454702",
   "metadata": {},
   "source": [
    "# Step 4: Model Training"
   ]
  },
  {
   "cell_type": "code",
   "execution_count": null,
   "id": "0ddf0f28",
   "metadata": {},
   "outputs": [],
   "source": [
    "# Initialize and train the Random Forest model\n",
    "model = RandomForestClassifier(random_state=42)\n",
    "model.fit(X_train, y_train)\n",
    "\n",
    "# Predict on the test set\n",
    "y_pred = model.predict(X_test)\n"
   ]
  },
  {
   "cell_type": "markdown",
   "id": "309093cc",
   "metadata": {},
   "source": [
    "# Step 5: Model Evaluation"
   ]
  },
  {
   "cell_type": "code",
   "execution_count": null,
   "id": "d2000355",
   "metadata": {},
   "outputs": [],
   "source": [
    "# Print classification report for detailed metrics\n",
    "print(\"Classification Report:\\n\", classification_report(y_test, y_pred))\n",
    "\n",
    "# Print accuracy score\n",
    "print(\"Accuracy:\", accuracy_score(y_test, y_pred))\n",
    "\n",
    "# Confusion Matrix\n",
    "sns.heatmap(confusion_matrix(y_test, y_pred), annot=True, fmt='d', cmap='Blues')\n",
    "plt.title(\"Confusion Matrix\")\n",
    "plt.xlabel(\"Predicted\")\n",
    "plt.ylabel(\"Actual\")\n",
    "plt.show()\n"
   ]
  },
  {
   "cell_type": "markdown",
   "id": "7a9d0112",
   "metadata": {},
   "source": [
    "# Step 6: Prediction"
   ]
  },
  {
   "cell_type": "code",
   "execution_count": null,
   "id": "772b8b10",
   "metadata": {},
   "outputs": [],
   "source": [
    "# Example developer data (years of experience, age, salary, dev type, employment type)\n",
    "sample = pd.DataFrame({\n",
    "    'YearsCode': [5],  # Example: 5 years of experience\n",
    "    'Age': [30],  # Example: 30 years old\n",
    "    'ConvertedCompYearly': [95000],  # Example: $95,000 salary\n",
    "    'DevTypeEncoded': [1],  # Example: Developer type (e.g., 'Developer' or other)\n",
    "    'EmploymentEncoded': [0]  # Example: Employment type (e.g., Full-time or other)\n",
    "})\n",
    "\n",
    "# Make a prediction using the trained model\n",
    "prediction = model.predict(sample)\n",
    "\n",
    "# Convert prediction back to the original category (Remote, Hybrid, On-site)\n",
    "predicted_work_preference = le_remote.inverse_transform(prediction)\n",
    "\n",
    "print(\"Predicted Remote Work Preference:\", predicted_work_preference[0])\n"
   ]
  },
  {
   "cell_type": "code",
   "execution_count": null,
   "id": "b5f555ca",
   "metadata": {},
   "outputs": [],
   "source": []
  }
 ],
 "metadata": {
  "kernelspec": {
   "display_name": "Python 3 (ipykernel)",
   "language": "python",
   "name": "python3"
  },
  "language_info": {
   "codemirror_mode": {
    "name": "ipython",
    "version": 3
   },
   "file_extension": ".py",
   "mimetype": "text/x-python",
   "name": "python",
   "nbconvert_exporter": "python",
   "pygments_lexer": "ipython3",
   "version": "3.10.13"
  }
 },
 "nbformat": 4,
 "nbformat_minor": 5
}
